{
 "cells": [
  {
   "cell_type": "markdown",
   "metadata": {},
   "source": [
    "## MobileNet v1의 기본 블록\n",
    "- 하나의 Depthwise convolution과 Pointwise convolution이 쌍을 이룸\n",
    "- Conv2d(3x3) -> Conv2d(1x1) -> BatchNorm -> ReLU ..\n",
    "- classifier head : fc layer\n",
    "- hyperparamer로 width multiplier, resolution multiplier 구현"
   ]
  },
  {
   "cell_type": "markdown",
   "metadata": {},
   "source": [
    "## Import"
   ]
  },
  {
   "cell_type": "code",
   "execution_count": 12,
   "metadata": {},
   "outputs": [],
   "source": [
    "import torch\n",
    "import torch.nn as nn\n",
    "import torch.optim as optim\n",
    "\n",
    "import torchvision\n",
    "import torchvision.datasets as datasets\n",
    "import torchvision.transforms as transforms\n",
    "from torch.utils.data import DataLoader"
   ]
  },
  {
   "cell_type": "code",
   "execution_count": 22,
   "metadata": {},
   "outputs": [
    {
     "data": {
      "text/plain": [
       "'cpu'"
      ]
     },
     "execution_count": 22,
     "metadata": {},
     "output_type": "execute_result"
    }
   ],
   "source": [
    "device = \"cuda\" if torch.cuda.is_available() else \"cpu\"\n",
    "device # 현재 노트북이라 .."
   ]
  },
  {
   "cell_type": "markdown",
   "metadata": {},
   "source": [
    "## MobileNet_v1"
   ]
  },
  {
   "cell_type": "code",
   "execution_count": 13,
   "metadata": {},
   "outputs": [],
   "source": [
    "class Depthwise_separable_conv(nn.Module):\n",
    "    def __init__(self, in_channels, out_channels, stride=1):\n",
    "        super(Depthwise_separable_conv, self).__init__()\n",
    "        \n",
    "        self.depthwise = nn.Conv2d(in_channels, in_channels, kernel_size=3, stride=stride, padding=1, groups=in_channels, bias=False)\n",
    "        self.pointwise = nn.Conv2d(in_channels, out_channels, kernel_size=1, stride=1, bias=False)\n",
    "        self.bn = nn.BatchNorm2d(out_channels)\n",
    "        self.relu = nn.ReLU()\n",
    "        \n",
    "    def forward(self, x):\n",
    "        out = self.depthwise(x)\n",
    "        out = self.pointwise(x)\n",
    "        out = self.bn(out)\n",
    "        out = self.relu(out)\n",
    "        \n",
    "        return out"
   ]
  },
  {
   "cell_type": "code",
   "execution_count": 14,
   "metadata": {},
   "outputs": [],
   "source": [
    "# width multiplier 적용 함수함수\n",
    "def divisible(v, divisor=8, min_value=None):\n",
    "    if min_value is None:\n",
    "        min_value = divisor\n",
    "        \n",
    "    return max(min_value, int(v + divisor / 2) // divisor * divisor)"
   ]
  },
  {
   "cell_type": "code",
   "execution_count": 18,
   "metadata": {},
   "outputs": [],
   "source": [
    "class MobileNet_v1(nn.Module):\n",
    "    def __init__(self, num_classes=1000, width_mult=1.0, resolution_mult=1.0, input_size=224444):\n",
    "        super(MobileNet_v1, self).__init__()\n",
    "        \n",
    "        self.input_size = int(input_size * resolution_mult)\n",
    "        \n",
    "        def adjust_channels(channels):\n",
    "            return divisible(channels * width_mult, divisor=8)\n",
    "\n",
    "        self.init_conv = nn.Sequential(\n",
    "            nn.Conv2d(in_channels=3, out_channels=32, kernel_size=3, stride=2, padding=1),\n",
    "            nn.BatchNorm2d(32),\n",
    "            nn.ReLU(),\n",
    "        )\n",
    "        \n",
    "        # Feature Extraction\n",
    "        self.feature = nn.Sequential(\n",
    "            Depthwise_separable_conv(32, 64),\n",
    "            Depthwise_separable_conv(64, 128, stride=2),\n",
    "            Depthwise_separable_conv(128, 128),\n",
    "            Depthwise_separable_conv(128, 256, stride=2),\n",
    "            Depthwise_separable_conv(256, 256),\n",
    "            Depthwise_separable_conv(256, 512, stride=2),\n",
    "            Depthwise_separable_conv(512, 512),\n",
    "            Depthwise_separable_conv(512, 512),\n",
    "            Depthwise_separable_conv(512, 512),\n",
    "            Depthwise_separable_conv(512, 512),\n",
    "            Depthwise_separable_conv(512, 512),\n",
    "            Depthwise_separable_conv(512, 1024, stride=2),\n",
    "            Depthwise_separable_conv(1024, 1024),\n",
    "        )\n",
    "        \n",
    "        # Classification Head\n",
    "        self.avgpool = nn.AdaptiveAvgPool2d(1)\n",
    "        self.fc_layer = nn.Linear(1024, num_classes)\n",
    "    \n",
    "    def forward(self, x):\n",
    "        out = self.init_conv(x)\n",
    "        out = self.feature(out)\n",
    "        out = self.avgpool(out)\n",
    "        out = torch.flatten(out, 1)\n",
    "        out = self.fc_layer(out)\n",
    "        \n",
    "        return out"
   ]
  },
  {
   "cell_type": "code",
   "execution_count": 20,
   "metadata": {},
   "outputs": [
    {
     "name": "stdout",
     "output_type": "stream",
     "text": [
      "torch.Size([1, 1000])\n"
     ]
    }
   ],
   "source": [
    "model = MobileNet_v1(num_classes=1000, width_mult=0.75, resolution_mult=0.5)\n",
    "input_image = torch.randn(1, 3, int(224 * 0.5), int(224 * 0.5))  # (1, 3, 112, 112)\n",
    "output = model(input_image)\n",
    "print(output.shape)  # (1, 1000)"
   ]
  }
 ],
 "metadata": {
  "kernelspec": {
   "display_name": "lee",
   "language": "python",
   "name": "python3"
  },
  "language_info": {
   "codemirror_mode": {
    "name": "ipython",
    "version": 3
   },
   "file_extension": ".py",
   "mimetype": "text/x-python",
   "name": "python",
   "nbconvert_exporter": "python",
   "pygments_lexer": "ipython3",
   "version": "3.9.19"
  }
 },
 "nbformat": 4,
 "nbformat_minor": 2
}
